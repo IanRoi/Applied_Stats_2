{
  "nbformat": 4,
  "nbformat_minor": 0,
  "metadata": {
    "colab": {
      "provenance": []
    },
    "kernelspec": {
      "name": "python3",
      "display_name": "Python 3"
    },
    "language_info": {
      "name": "python"
    }
  },
  "cells": [
    {
      "cell_type": "code",
      "execution_count": 3,
      "metadata": {
        "colab": {
          "base_uri": "https://localhost:8080/"
        },
        "id": "XHXA1FP8ro9W",
        "outputId": "8a61027f-8389-4080-e4f1-7d512a9d467f"
      },
      "outputs": [
        {
          "output_type": "stream",
          "name": "stdout",
          "text": [
            "Hello world!\n"
          ]
        }
      ],
      "source": [
        "print('Hello world!') #My very first Python code"
      ]
    },
    {
      "cell_type": "code",
      "source": [
        "#Python Data Types\n",
        "#1. Numbers\n",
        "# Integers and Float"
      ],
      "metadata": {
        "id": "7ZftZBcashD6"
      },
      "execution_count": 4,
      "outputs": []
    },
    {
      "cell_type": "code",
      "source": [
        "#Integer (int)\n",
        "x = 1\n",
        "y = 2\n",
        "print (x + y)"
      ],
      "metadata": {
        "colab": {
          "base_uri": "https://localhost:8080/"
        },
        "id": "hH8LDcyms1m7",
        "outputId": "64d5f156-cf24-4e91-efd5-d084ba176f7c"
      },
      "execution_count": 7,
      "outputs": [
        {
          "output_type": "stream",
          "name": "stdout",
          "text": [
            "3\n"
          ]
        }
      ]
    },
    {
      "cell_type": "code",
      "source": [
        "#Float\n",
        "x = 1.5\n",
        "y = 2.0\n",
        "print (x + y)\n"
      ],
      "metadata": {
        "colab": {
          "base_uri": "https://localhost:8080/"
        },
        "id": "P6ENIpiQszAM",
        "outputId": "9d8f7f5c-d05b-4351-cda5-7559888b6dd1"
      },
      "execution_count": 8,
      "outputs": [
        {
          "output_type": "stream",
          "name": "stdout",
          "text": [
            "3.5\n"
          ]
        }
      ]
    },
    {
      "cell_type": "code",
      "source": [
        "#Strings\n",
        "x = 'Hello'\n",
        "y = 'World'\n",
        "print (x + y)"
      ],
      "metadata": {
        "colab": {
          "base_uri": "https://localhost:8080/"
        },
        "id": "krKv30Fdtbk_",
        "outputId": "bb9e9281-e83a-4374-c7a4-80809ccc576d"
      },
      "execution_count": 9,
      "outputs": [
        {
          "output_type": "stream",
          "name": "stdout",
          "text": [
            "HelloWorld\n"
          ]
        }
      ]
    },
    {
      "cell_type": "code",
      "source": [
        "print ('My Name is Ian') #Single Quotation Mark"
      ],
      "metadata": {
        "colab": {
          "base_uri": "https://localhost:8080/"
        },
        "id": "wt4XAAUPtvWL",
        "outputId": "ae5cb72d-91bc-423c-cd08-882452579372"
      },
      "execution_count": 10,
      "outputs": [
        {
          "output_type": "stream",
          "name": "stdout",
          "text": [
            "My Name is Ian\n"
          ]
        }
      ]
    },
    {
      "cell_type": "code",
      "source": [
        "print (\"My name is Ian\") #Double Quotation Mark"
      ],
      "metadata": {
        "colab": {
          "base_uri": "https://localhost:8080/"
        },
        "id": "0BLffFpit2uX",
        "outputId": "eb031b88-38b3-44e6-d3eb-b4c417563d5f"
      },
      "execution_count": 11,
      "outputs": [
        {
          "output_type": "stream",
          "name": "stdout",
          "text": [
            "My name is Ian\n"
          ]
        }
      ]
    },
    {
      "cell_type": "code",
      "source": [
        "x = '123456'\n",
        "y = 123456\n",
        "z = 7890.00\n",
        "print('This is a string', x)\n",
        "print(\"This is an integer\", y)\n",
        "print('This is a float', z)"
      ],
      "metadata": {
        "colab": {
          "base_uri": "https://localhost:8080/"
        },
        "id": "6-FDcBZxt-Dz",
        "outputId": "a9ab2ffe-d2ab-4657-f415-4c0f1dd98575"
      },
      "execution_count": 15,
      "outputs": [
        {
          "output_type": "stream",
          "name": "stdout",
          "text": [
            "This is a string 123456\n",
            "This is an integer 123456\n",
            "This is a float 7890.0\n"
          ]
        }
      ]
    },
    {
      "cell_type": "code",
      "source": [
        "#/n (for spacing)\n",
        "\n",
        "print('Ian \\nRoi \\nCatubig')"
      ],
      "metadata": {
        "colab": {
          "base_uri": "https://localhost:8080/"
        },
        "id": "CzqhUfPeuvRK",
        "outputId": "523b714b-7f29-46f9-dea6-000fe3fb9c8f"
      },
      "execution_count": 18,
      "outputs": [
        {
          "output_type": "stream",
          "name": "stdout",
          "text": [
            "Ian \n",
            "Roi \n",
            "Catubig\n"
          ]
        }
      ]
    },
    {
      "cell_type": "code",
      "source": [
        "#Mathematical Operators\n",
        "#Addition (+)\n",
        "#Subtraction (-)\n",
        "#Multiplication (*)\n",
        "#Division (/)\n",
        "#Exponential (**)\n",
        "#Floor Division (//)\n",
        "\n",
        "a = 2\n",
        "b = 3\n",
        "print(a + b) #Addition\n",
        "print(a - b) #Subtraction\n",
        "print(a * b) #Multiplication\n",
        "print (a / b) #Division\n",
        "\n",
        "x = 9\n",
        "y = 4\n",
        "print(9 % 4) #Modulo Operator\n",
        "\n",
        "print(x ** 2)\n",
        "print(2 ** 3) #Exponential\n"
      ],
      "metadata": {
        "colab": {
          "base_uri": "https://localhost:8080/"
        },
        "id": "xjQQXIfPvtFH",
        "outputId": "71e6e34b-26ba-4305-dade-535a8d3adc23"
      },
      "execution_count": 22,
      "outputs": [
        {
          "output_type": "stream",
          "name": "stdout",
          "text": [
            "5\n",
            "-1\n",
            "6\n",
            "0.6666666666666666\n",
            "1\n",
            "81\n",
            "8\n"
          ]
        }
      ]
    },
    {
      "cell_type": "code",
      "source": [
        "print(9 / 5) #Division\n",
        "print( 9 // 5) #Floor Division"
      ],
      "metadata": {
        "colab": {
          "base_uri": "https://localhost:8080/"
        },
        "id": "LxGr0hTcwgYV",
        "outputId": "eb21d304-d611-4142-b4f2-a8b468e28912"
      },
      "execution_count": 23,
      "outputs": [
        {
          "output_type": "stream",
          "name": "stdout",
          "text": [
            "1.8\n",
            "1\n"
          ]
        }
      ]
    },
    {
      "cell_type": "code",
      "source": [
        "#Comparison Operators\n",
        "\n",
        "# Less that (<)\n",
        "#Greater than (>)\n",
        "#Equal to (==)\n",
        "#Not equal to (!=)\n",
        "# Greater than or equal to (>=)\n",
        "#Less than or equal to (<=)\n",
        "\n",
        "x  = 10\n",
        "y = 5\n",
        "print(x < y)\n",
        "print(x > y)\n",
        "print(x == y)\n",
        "print(x != y)\n",
        "print(x >= y)\n",
        "print (x <= y)"
      ],
      "metadata": {
        "colab": {
          "base_uri": "https://localhost:8080/"
        },
        "id": "739PB-spxoKC",
        "outputId": "82bfa2a3-ed90-4d1e-ba21-f1719bf33c43"
      },
      "execution_count": 24,
      "outputs": [
        {
          "output_type": "stream",
          "name": "stdout",
          "text": [
            "False\n",
            "True\n",
            "False\n",
            "True\n",
            "True\n",
            "False\n"
          ]
        }
      ]
    },
    {
      "cell_type": "code",
      "source": [
        "#Boolean Operators\n",
        "#or\n",
        "#and\n",
        "#not\n",
        "\n",
        "print(x or y)\n",
        "print(x and y)\n",
        "print(x, not y)"
      ],
      "metadata": {
        "colab": {
          "base_uri": "https://localhost:8080/"
        },
        "id": "ntQR0aEuyv5z",
        "outputId": "01dd9e8d-2bcc-44e2-f3ae-9bc434090194"
      },
      "execution_count": 29,
      "outputs": [
        {
          "output_type": "stream",
          "name": "stdout",
          "text": [
            "10\n",
            "5\n",
            "10 False\n"
          ]
        }
      ]
    },
    {
      "cell_type": "code",
      "source": [
        "#Looping\n",
        "\n",
        "x = 5\n",
        "\n",
        "if x == 10:\n",
        "  print('Equal to')\n",
        "else:\n",
        "  print('Less than')"
      ],
      "metadata": {
        "colab": {
          "base_uri": "https://localhost:8080/"
        },
        "id": "h4gWOZ7jzbWh",
        "outputId": "a2921c04-f67a-482f-f714-4d368f85b339"
      },
      "execution_count": 32,
      "outputs": [
        {
          "output_type": "stream",
          "name": "stdout",
          "text": [
            "Less than\n"
          ]
        }
      ]
    },
    {
      "cell_type": "code",
      "source": [
        "#Assignement of Variables\n",
        "\n",
        "#Strings\n",
        "name = 900\n",
        "surname = 500\n",
        "print(name + surname)\n",
        "\n",
        "#Numbers\n",
        "hours = 8\n",
        "score = 90\n",
        "\n",
        "print(hours)\n",
        "print(score)\n",
        "\n",
        "#Naming Variable (always use small cap)\n",
        "\n",
        "name = 'Ian'\n",
        "unitPrice = 100\n",
        "unit_price = 200"
      ],
      "metadata": {
        "colab": {
          "base_uri": "https://localhost:8080/"
        },
        "id": "Lj5OqnGN0D-x",
        "outputId": "4d4763ec-6ebe-46bb-cb1b-08878b4e937c"
      },
      "execution_count": 35,
      "outputs": [
        {
          "output_type": "stream",
          "name": "stdout",
          "text": [
            "IanCatubig\n",
            "8\n",
            "90\n"
          ]
        }
      ]
    },
    {
      "cell_type": "code",
      "source": [
        "f_name = 'Ian'\n",
        "l_name = 'Catubig'\n",
        "age = 19\n",
        "\n",
        "print(f\"My name is {f_name} {l_name} and I am {age} years old\")"
      ],
      "metadata": {
        "colab": {
          "base_uri": "https://localhost:8080/"
        },
        "id": "50Nh84Y10XLF",
        "outputId": "c09de67c-eb88-402f-8857-438aec99b6f4"
      },
      "execution_count": 36,
      "outputs": [
        {
          "output_type": "stream",
          "name": "stdout",
          "text": [
            "My name is Ian Catubig and I am 19 years old\n"
          ]
        }
      ]
    },
    {
      "cell_type": "code",
      "source": [
        "#Built=in functions\n",
        "#type () to know the data type\n",
        "#Rounding off round()\n",
        "\n",
        "x = 9 #Integer\n",
        "y = 8.7888889999 #float\n",
        "z = 'Ian' #String\n",
        "\n",
        "round(y, 0)"
      ],
      "metadata": {
        "colab": {
          "base_uri": "https://localhost:8080/"
        },
        "id": "9lmfjAVF2JiY",
        "outputId": "4a7587da-b9eb-41f5-a945-4178fd3b40db"
      },
      "execution_count": 40,
      "outputs": [
        {
          "output_type": "execute_result",
          "data": {
            "text/plain": [
              "9.0"
            ]
          },
          "metadata": {},
          "execution_count": 40
        }
      ]
    },
    {
      "cell_type": "code",
      "source": [],
      "metadata": {
        "id": "y5rYzhEV2v6b"
      },
      "execution_count": null,
      "outputs": []
    }
  ]
}